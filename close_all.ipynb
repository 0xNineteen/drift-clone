{
 "cells": [
  {
   "cell_type": "code",
   "execution_count": 2,
   "metadata": {},
   "outputs": [
    {
     "name": "stdout",
     "output_type": "stream",
     "text": [
      "The autoreload extension is already loaded. To reload it, use:\n",
      "  %reload_ext autoreload\n",
      "#!/bin/bash\n",
      "./solana/target/debug/solana-test-validator --account-dir accounts/Oracles --account-dir accounts/Bank --account-dir accounts/User --account-dir accounts/State --account-dir accounts/UserStats --account-dir accounts/Market --bpf-program 65sz7dRiWDRPZjiRxcTxPM7AE6VK4Nag9HEK6oBJXhJn accounts/65sz7dRiWDRPZjiRxcTxPM7AE6VK4Nag9HEK6oBJXhJn.so --resetfound admin...\n"
     ]
    }
   ],
   "source": [
    "%load_ext autoreload\n",
    "%autoreload 2\n",
    "\n",
    "import sys\n",
    "sys.path.append('driftpy/src/')\n",
    "\n",
    "from driftpy.types import User\n",
    "from driftpy.constants.config import configs\n",
    "from anchorpy import Provider\n",
    "import json \n",
    "from anchorpy import Wallet\n",
    "from solana.rpc.async_api import AsyncClient\n",
    "from driftpy.clearing_house import ClearingHouse\n",
    "from driftpy.accounts import *\n",
    "from solana.publickey import PublicKey\n",
    "from solana.keypair import Keypair\n",
    "import pathlib \n",
    "from tqdm.notebook import tqdm \n",
    "import shutil\n",
    "from anchorpy import Instruction\n",
    "import base64\n",
    "from subprocess import Popen\n",
    "import os \n",
    "import time\n",
    "import signal\n",
    "from driftpy.admin import Admin\n",
    "from helpers import *\n",
    "\n",
    "script_file = 'start_local.sh'\n",
    "os.system(f'cat {script_file}')\n",
    "print()\n",
    "\n",
    "validator = LocalValidator(script_file)\n",
    "validator.start()\n",
    "\n",
    "config = configs['devnet']\n",
    "url = 'http://127.0.0.1:8899'\n",
    "connection = AsyncClient(url)\n",
    "\n",
    "chs, state_ch = await load_local_users(config, connection)"
   ]
  },
  {
   "cell_type": "code",
   "execution_count": 5,
   "metadata": {},
   "outputs": [
    {
     "data": {
      "text/plain": [
       "'5TQ377yh7wBWuD2nYHD2qVmbrDUbrV41egG9xHbiUhWjEuUfnH7FUzc1dXZesDK7PE4LnYygCtuGBepvQ9M1JG29'"
      ]
     },
     "execution_count": 5,
     "metadata": {},
     "output_type": "execute_result"
    }
   ],
   "source": [
    "await state_ch.update_auction_duration(0, 0)\n",
    "await state_ch.update_max_base_asset_amount_ratio(1, 0)"
   ]
  },
  {
   "cell_type": "code",
   "execution_count": 8,
   "metadata": {},
   "outputs": [
    {
     "data": {
      "application/vnd.jupyter.widget-view+json": {
       "model_id": "7a9b6c4ccf32489caa79ac7b5b423d67",
       "version_major": 2,
       "version_minor": 0
      },
      "text/plain": [
       "  0%|          | 0/82 [00:00<?, ?it/s]"
      ]
     },
     "metadata": {},
     "output_type": "display_data"
    }
   ],
   "source": [
    "# note: sometimes need to run this twice for lps (remove on first loop then close on second)\n",
    "close_out = False\n",
    "net_baa = 0 \n",
    "sigs = []\n",
    "for ch in tqdm(chs):\n",
    "    position = await ch.get_user_position(0)\n",
    "\n",
    "    if position.lp_shares > 0:\n",
    "        if close_out:\n",
    "            print('removing...', position.lp_shares)\n",
    "            sig = await ch.remove_liquidity(position.lp_shares, 0)\n",
    "            sigs.append(sig)\n",
    "\n",
    "    if position.base_asset_amount != 0:\n",
    "        net_baa += position.base_asset_amount\n",
    "        if close_out:\n",
    "            print('closing...', position.base_asset_amount / 1e13)\n",
    "            sig = await ch.close_position(0)\n",
    "            sigs.append(sig)\n",
    "    "
   ]
  },
  {
   "cell_type": "code",
   "execution_count": 10,
   "metadata": {},
   "outputs": [
    {
     "data": {
      "text/plain": [
       "(-382198840000000, 17179431531215116)"
      ]
     },
     "execution_count": 10,
     "metadata": {},
     "output_type": "execute_result"
    }
   ],
   "source": [
    "if close_out:\n",
    "    # wait for txs to confirm\n",
    "    while True:\n",
    "        resp = await connection.get_transaction(sigs[-1])\n",
    "        if resp['result'] is not None: \n",
    "            break \n",
    "\n",
    "market = await get_market_account(state_ch.program, 0)\n",
    "net_baa, market.amm.net_base_asset_amount"
   ]
  },
  {
   "cell_type": "code",
   "execution_count": 11,
   "metadata": {},
   "outputs": [
    {
     "ename": "ProcessLookupError",
     "evalue": "[Errno 3] No such process",
     "output_type": "error",
     "traceback": [
      "\u001b[0;31m---------------------------------------------------------------------------\u001b[0m",
      "\u001b[0;31mProcessLookupError\u001b[0m                        Traceback (most recent call last)",
      "\u001b[1;32m/Users/brennan/Documents/drift/drift-clone/close_all.ipynb Cell 5\u001b[0m in \u001b[0;36m<cell line: 2>\u001b[0;34m()\u001b[0m\n\u001b[1;32m      <a href='vscode-notebook-cell:/Users/brennan/Documents/drift/drift-clone/close_all.ipynb#W2sZmlsZQ%3D%3D?line=0'>1</a>\u001b[0m \u001b[39m# shutdown validator\u001b[39;00m\n\u001b[0;32m----> <a href='vscode-notebook-cell:/Users/brennan/Documents/drift/drift-clone/close_all.ipynb#W2sZmlsZQ%3D%3D?line=1'>2</a>\u001b[0m validator\u001b[39m.\u001b[39;49mstop()\n",
      "File \u001b[0;32m~/Documents/drift/drift-clone/helpers.py:42\u001b[0m, in \u001b[0;36mLocalValidator.stop\u001b[0;34m(self)\u001b[0m\n\u001b[1;32m     40\u001b[0m \u001b[39mdef\u001b[39;00m \u001b[39mstop\u001b[39m(\u001b[39mself\u001b[39m):\n\u001b[1;32m     41\u001b[0m     \u001b[39mself\u001b[39m\u001b[39m.\u001b[39mlog_file\u001b[39m.\u001b[39mclose()\n\u001b[0;32m---> 42\u001b[0m     os\u001b[39m.\u001b[39mkillpg(os\u001b[39m.\u001b[39;49mgetpgid(\u001b[39mself\u001b[39;49m\u001b[39m.\u001b[39;49mproc\u001b[39m.\u001b[39;49mpid), signal\u001b[39m.\u001b[39mSIGTERM)\n",
      "\u001b[0;31mProcessLookupError\u001b[0m: [Errno 3] No such process"
     ]
    }
   ],
   "source": [
    "# shutdown validator\n",
    "validator.stop()"
   ]
  },
  {
   "cell_type": "code",
   "execution_count": null,
   "metadata": {},
   "outputs": [],
   "source": []
  }
 ],
 "metadata": {
  "kernelspec": {
   "display_name": "Python 3.9.12 ('crypto')",
   "language": "python",
   "name": "python3"
  },
  "language_info": {
   "codemirror_mode": {
    "name": "ipython",
    "version": 3
   },
   "file_extension": ".py",
   "mimetype": "text/x-python",
   "name": "python",
   "nbconvert_exporter": "python",
   "pygments_lexer": "ipython3",
   "version": "3.9.12"
  },
  "orig_nbformat": 4,
  "vscode": {
   "interpreter": {
    "hash": "624c72e60887220413ba1f8f2e5b78d412679310011d540f3b5e530000425194"
   }
  }
 },
 "nbformat": 4,
 "nbformat_minor": 2
}
