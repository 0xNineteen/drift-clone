{
 "cells": [
  {
   "cell_type": "code",
   "execution_count": 2,
   "metadata": {},
   "outputs": [
    {
     "name": "stdout",
     "output_type": "stream",
     "text": [
      "The autoreload extension is already loaded. To reload it, use:\n",
      "  %reload_ext autoreload\n",
      "#!/bin/bash\n",
      "./solana/target/debug/solana-test-validator --account-dir accounts/Oracles --account-dir accounts/Bank --account-dir accounts/User --account-dir accounts/State --account-dir accounts/UserStats --account-dir accounts/Market --bpf-program 65sz7dRiWDRPZjiRxcTxPM7AE6VK4Nag9HEK6oBJXhJn accounts/65sz7dRiWDRPZjiRxcTxPM7AE6VK4Nag9HEK6oBJXhJn.so --reset\n"
     ]
    },
    {
     "ename": "SolanaRpcException",
     "evalue": "",
     "output_type": "error",
     "traceback": [
      "\u001b[0;31m---------------------------------------------------------------------------\u001b[0m",
      "\u001b[0;31mConnectionRefusedError\u001b[0m                    Traceback (most recent call last)",
      "File \u001b[0;32m~/miniconda3/envs/crypto/lib/python3.9/site-packages/anyio/_core/_sockets.py:127\u001b[0m, in \u001b[0;36mconnect_tcp.<locals>.try_connect\u001b[0;34m(remote_host, event)\u001b[0m\n\u001b[1;32m    126\u001b[0m \u001b[39mtry\u001b[39;00m:\n\u001b[0;32m--> 127\u001b[0m     stream \u001b[39m=\u001b[39m \u001b[39mawait\u001b[39;00m asynclib\u001b[39m.\u001b[39mconnect_tcp(remote_host, remote_port, local_address)\n\u001b[1;32m    128\u001b[0m \u001b[39mexcept\u001b[39;00m \u001b[39mOSError\u001b[39;00m \u001b[39mas\u001b[39;00m exc:\n",
      "File \u001b[0;32m~/miniconda3/envs/crypto/lib/python3.9/site-packages/anyio/_backends/_asyncio.py:1518\u001b[0m, in \u001b[0;36mconnect_tcp\u001b[0;34m(host, port, local_addr)\u001b[0m\n\u001b[1;32m   1514\u001b[0m \u001b[39masync\u001b[39;00m \u001b[39mdef\u001b[39;00m \u001b[39mconnect_tcp\u001b[39m(host: \u001b[39mstr\u001b[39m, port: \u001b[39mint\u001b[39m,\n\u001b[1;32m   1515\u001b[0m                       local_addr: Optional[Tuple[\u001b[39mstr\u001b[39m, \u001b[39mint\u001b[39m]] \u001b[39m=\u001b[39m \u001b[39mNone\u001b[39;00m) \u001b[39m-\u001b[39m\u001b[39m>\u001b[39m SocketStream:\n\u001b[1;32m   1516\u001b[0m     transport, protocol \u001b[39m=\u001b[39m cast(\n\u001b[1;32m   1517\u001b[0m         Tuple[asyncio\u001b[39m.\u001b[39mTransport, StreamProtocol],\n\u001b[0;32m-> 1518\u001b[0m         \u001b[39mawait\u001b[39;00m get_running_loop()\u001b[39m.\u001b[39mcreate_connection(StreamProtocol, host, port,\n\u001b[1;32m   1519\u001b[0m                                                    local_addr\u001b[39m=\u001b[39mlocal_addr)\n\u001b[1;32m   1520\u001b[0m     )\n\u001b[1;32m   1521\u001b[0m     transport\u001b[39m.\u001b[39mpause_reading()\n",
      "File \u001b[0;32m~/miniconda3/envs/crypto/lib/python3.9/asyncio/base_events.py:1065\u001b[0m, in \u001b[0;36mBaseEventLoop.create_connection\u001b[0;34m(self, protocol_factory, host, port, ssl, family, proto, flags, sock, local_addr, server_hostname, ssl_handshake_timeout, happy_eyeballs_delay, interleave)\u001b[0m\n\u001b[1;32m   1064\u001b[0m \u001b[39mif\u001b[39;00m \u001b[39mlen\u001b[39m(exceptions) \u001b[39m==\u001b[39m \u001b[39m1\u001b[39m:\n\u001b[0;32m-> 1065\u001b[0m     \u001b[39mraise\u001b[39;00m exceptions[\u001b[39m0\u001b[39m]\n\u001b[1;32m   1066\u001b[0m \u001b[39melse\u001b[39;00m:\n\u001b[1;32m   1067\u001b[0m     \u001b[39m# If they all have the same str(), raise one.\u001b[39;00m\n",
      "File \u001b[0;32m~/miniconda3/envs/crypto/lib/python3.9/asyncio/base_events.py:1050\u001b[0m, in \u001b[0;36mBaseEventLoop.create_connection\u001b[0;34m(self, protocol_factory, host, port, ssl, family, proto, flags, sock, local_addr, server_hostname, ssl_handshake_timeout, happy_eyeballs_delay, interleave)\u001b[0m\n\u001b[1;32m   1049\u001b[0m \u001b[39mtry\u001b[39;00m:\n\u001b[0;32m-> 1050\u001b[0m     sock \u001b[39m=\u001b[39m \u001b[39mawait\u001b[39;00m \u001b[39mself\u001b[39m\u001b[39m.\u001b[39m_connect_sock(\n\u001b[1;32m   1051\u001b[0m         exceptions, addrinfo, laddr_infos)\n\u001b[1;32m   1052\u001b[0m     \u001b[39mbreak\u001b[39;00m\n",
      "File \u001b[0;32m~/miniconda3/envs/crypto/lib/python3.9/asyncio/base_events.py:961\u001b[0m, in \u001b[0;36mBaseEventLoop._connect_sock\u001b[0;34m(self, exceptions, addr_info, local_addr_infos)\u001b[0m\n\u001b[1;32m    960\u001b[0m         \u001b[39mraise\u001b[39;00m my_exceptions\u001b[39m.\u001b[39mpop()\n\u001b[0;32m--> 961\u001b[0m \u001b[39mawait\u001b[39;00m \u001b[39mself\u001b[39m\u001b[39m.\u001b[39msock_connect(sock, address)\n\u001b[1;32m    962\u001b[0m \u001b[39mreturn\u001b[39;00m sock\n",
      "File \u001b[0;32m~/miniconda3/envs/crypto/lib/python3.9/asyncio/selector_events.py:499\u001b[0m, in \u001b[0;36mBaseSelectorEventLoop.sock_connect\u001b[0;34m(self, sock, address)\u001b[0m\n\u001b[1;32m    498\u001b[0m \u001b[39mself\u001b[39m\u001b[39m.\u001b[39m_sock_connect(fut, sock, address)\n\u001b[0;32m--> 499\u001b[0m \u001b[39mreturn\u001b[39;00m \u001b[39mawait\u001b[39;00m fut\n",
      "File \u001b[0;32m~/miniconda3/envs/crypto/lib/python3.9/asyncio/selector_events.py:534\u001b[0m, in \u001b[0;36mBaseSelectorEventLoop._sock_connect_cb\u001b[0;34m(self, fut, sock, address)\u001b[0m\n\u001b[1;32m    532\u001b[0m     \u001b[39mif\u001b[39;00m err \u001b[39m!=\u001b[39m \u001b[39m0\u001b[39m:\n\u001b[1;32m    533\u001b[0m         \u001b[39m# Jump to any except clause below.\u001b[39;00m\n\u001b[0;32m--> 534\u001b[0m         \u001b[39mraise\u001b[39;00m \u001b[39mOSError\u001b[39;00m(err, \u001b[39mf\u001b[39m\u001b[39m'\u001b[39m\u001b[39mConnect call failed \u001b[39m\u001b[39m{\u001b[39;00maddress\u001b[39m}\u001b[39;00m\u001b[39m'\u001b[39m)\n\u001b[1;32m    535\u001b[0m \u001b[39mexcept\u001b[39;00m (\u001b[39mBlockingIOError\u001b[39;00m, \u001b[39mInterruptedError\u001b[39;00m):\n\u001b[1;32m    536\u001b[0m     \u001b[39m# socket is still registered, the callback will be retried later\u001b[39;00m\n",
      "\u001b[0;31mConnectionRefusedError\u001b[0m: [Errno 61] Connect call failed ('127.0.0.1', 8899)",
      "\nThe above exception was the direct cause of the following exception:\n",
      "\u001b[0;31mOSError\u001b[0m                                   Traceback (most recent call last)",
      "File \u001b[0;32m~/miniconda3/envs/crypto/lib/python3.9/site-packages/httpcore/_exceptions.py:8\u001b[0m, in \u001b[0;36mmap_exceptions\u001b[0;34m(map)\u001b[0m\n\u001b[1;32m      7\u001b[0m \u001b[39mtry\u001b[39;00m:\n\u001b[0;32m----> 8\u001b[0m     \u001b[39myield\u001b[39;00m\n\u001b[1;32m      9\u001b[0m \u001b[39mexcept\u001b[39;00m \u001b[39mException\u001b[39;00m \u001b[39mas\u001b[39;00m exc:  \u001b[39m# noqa: PIE786\u001b[39;00m\n",
      "File \u001b[0;32m~/miniconda3/envs/crypto/lib/python3.9/site-packages/httpcore/backends/asyncio.py:109\u001b[0m, in \u001b[0;36mAsyncIOBackend.connect_tcp\u001b[0;34m(self, host, port, timeout, local_address)\u001b[0m\n\u001b[1;32m    108\u001b[0m     \u001b[39mwith\u001b[39;00m anyio\u001b[39m.\u001b[39mfail_after(timeout):\n\u001b[0;32m--> 109\u001b[0m         stream: anyio\u001b[39m.\u001b[39mabc\u001b[39m.\u001b[39mByteStream \u001b[39m=\u001b[39m \u001b[39mawait\u001b[39;00m anyio\u001b[39m.\u001b[39mconnect_tcp(\n\u001b[1;32m    110\u001b[0m             remote_host\u001b[39m=\u001b[39mhost,\n\u001b[1;32m    111\u001b[0m             remote_port\u001b[39m=\u001b[39mport,\n\u001b[1;32m    112\u001b[0m             local_host\u001b[39m=\u001b[39mlocal_address,\n\u001b[1;32m    113\u001b[0m         )\n\u001b[1;32m    114\u001b[0m \u001b[39mreturn\u001b[39;00m AsyncIOStream(stream)\n",
      "File \u001b[0;32m~/miniconda3/envs/crypto/lib/python3.9/site-packages/anyio/_core/_sockets.py:184\u001b[0m, in \u001b[0;36mconnect_tcp\u001b[0;34m(remote_host, remote_port, local_host, tls, ssl_context, tls_standard_compatible, tls_hostname, happy_eyeballs_delay)\u001b[0m\n\u001b[1;32m    183\u001b[0m     cause \u001b[39m=\u001b[39m oserrors[\u001b[39m0\u001b[39m] \u001b[39mif\u001b[39;00m \u001b[39mlen\u001b[39m(oserrors) \u001b[39m==\u001b[39m \u001b[39m1\u001b[39m \u001b[39melse\u001b[39;00m asynclib\u001b[39m.\u001b[39mExceptionGroup(oserrors)\n\u001b[0;32m--> 184\u001b[0m     \u001b[39mraise\u001b[39;00m \u001b[39mOSError\u001b[39;00m(\u001b[39m'\u001b[39m\u001b[39mAll connection attempts failed\u001b[39m\u001b[39m'\u001b[39m) \u001b[39mfrom\u001b[39;00m \u001b[39mcause\u001b[39;00m\n\u001b[1;32m    186\u001b[0m \u001b[39mif\u001b[39;00m tls \u001b[39mor\u001b[39;00m tls_hostname \u001b[39mor\u001b[39;00m ssl_context:\n",
      "\u001b[0;31mOSError\u001b[0m: All connection attempts failed",
      "\nDuring handling of the above exception, another exception occurred:\n",
      "\u001b[0;31mConnectError\u001b[0m                              Traceback (most recent call last)",
      "File \u001b[0;32m~/miniconda3/envs/crypto/lib/python3.9/site-packages/httpx/_transports/default.py:60\u001b[0m, in \u001b[0;36mmap_httpcore_exceptions\u001b[0;34m()\u001b[0m\n\u001b[1;32m     59\u001b[0m \u001b[39mtry\u001b[39;00m:\n\u001b[0;32m---> 60\u001b[0m     \u001b[39myield\u001b[39;00m\n\u001b[1;32m     61\u001b[0m \u001b[39mexcept\u001b[39;00m \u001b[39mException\u001b[39;00m \u001b[39mas\u001b[39;00m exc:  \u001b[39m# noqa: PIE-786\u001b[39;00m\n",
      "File \u001b[0;32m~/miniconda3/envs/crypto/lib/python3.9/site-packages/httpx/_transports/default.py:353\u001b[0m, in \u001b[0;36mAsyncHTTPTransport.handle_async_request\u001b[0;34m(self, request)\u001b[0m\n\u001b[1;32m    352\u001b[0m \u001b[39mwith\u001b[39;00m map_httpcore_exceptions():\n\u001b[0;32m--> 353\u001b[0m     resp \u001b[39m=\u001b[39m \u001b[39mawait\u001b[39;00m \u001b[39mself\u001b[39m\u001b[39m.\u001b[39m_pool\u001b[39m.\u001b[39mhandle_async_request(req)\n\u001b[1;32m    355\u001b[0m \u001b[39massert\u001b[39;00m \u001b[39misinstance\u001b[39m(resp\u001b[39m.\u001b[39mstream, typing\u001b[39m.\u001b[39mAsyncIterable)\n",
      "File \u001b[0;32m~/miniconda3/envs/crypto/lib/python3.9/site-packages/httpcore/_async/connection_pool.py:253\u001b[0m, in \u001b[0;36mAsyncConnectionPool.handle_async_request\u001b[0;34m(self, request)\u001b[0m\n\u001b[1;32m    252\u001b[0m     \u001b[39mawait\u001b[39;00m \u001b[39mself\u001b[39m\u001b[39m.\u001b[39mresponse_closed(status)\n\u001b[0;32m--> 253\u001b[0m     \u001b[39mraise\u001b[39;00m exc\n\u001b[1;32m    254\u001b[0m \u001b[39melse\u001b[39;00m:\n",
      "File \u001b[0;32m~/miniconda3/envs/crypto/lib/python3.9/site-packages/httpcore/_async/connection_pool.py:237\u001b[0m, in \u001b[0;36mAsyncConnectionPool.handle_async_request\u001b[0;34m(self, request)\u001b[0m\n\u001b[1;32m    236\u001b[0m \u001b[39mtry\u001b[39;00m:\n\u001b[0;32m--> 237\u001b[0m     response \u001b[39m=\u001b[39m \u001b[39mawait\u001b[39;00m connection\u001b[39m.\u001b[39mhandle_async_request(request)\n\u001b[1;32m    238\u001b[0m \u001b[39mexcept\u001b[39;00m ConnectionNotAvailable:\n\u001b[1;32m    239\u001b[0m     \u001b[39m# The ConnectionNotAvailable exception is a special case, that\u001b[39;00m\n\u001b[1;32m    240\u001b[0m     \u001b[39m# indicates we need to retry the request on a new connection.\u001b[39;00m\n\u001b[0;32m   (...)\u001b[0m\n\u001b[1;32m    244\u001b[0m     \u001b[39m# might end up as an HTTP/2 connection, but which actually ends\u001b[39;00m\n\u001b[1;32m    245\u001b[0m     \u001b[39m# up as HTTP/1.1.\u001b[39;00m\n",
      "File \u001b[0;32m~/miniconda3/envs/crypto/lib/python3.9/site-packages/httpcore/_async/connection.py:86\u001b[0m, in \u001b[0;36mAsyncHTTPConnection.handle_async_request\u001b[0;34m(self, request)\u001b[0m\n\u001b[1;32m     85\u001b[0m         \u001b[39mself\u001b[39m\u001b[39m.\u001b[39m_connect_failed \u001b[39m=\u001b[39m \u001b[39mTrue\u001b[39;00m\n\u001b[0;32m---> 86\u001b[0m         \u001b[39mraise\u001b[39;00m exc\n\u001b[1;32m     87\u001b[0m \u001b[39melif\u001b[39;00m \u001b[39mnot\u001b[39;00m \u001b[39mself\u001b[39m\u001b[39m.\u001b[39m_connection\u001b[39m.\u001b[39mis_available():\n",
      "File \u001b[0;32m~/miniconda3/envs/crypto/lib/python3.9/site-packages/httpcore/_async/connection.py:63\u001b[0m, in \u001b[0;36mAsyncHTTPConnection.handle_async_request\u001b[0;34m(self, request)\u001b[0m\n\u001b[1;32m     62\u001b[0m \u001b[39mtry\u001b[39;00m:\n\u001b[0;32m---> 63\u001b[0m     stream \u001b[39m=\u001b[39m \u001b[39mawait\u001b[39;00m \u001b[39mself\u001b[39m\u001b[39m.\u001b[39m_connect(request)\n\u001b[1;32m     65\u001b[0m     ssl_object \u001b[39m=\u001b[39m stream\u001b[39m.\u001b[39mget_extra_info(\u001b[39m\"\u001b[39m\u001b[39mssl_object\u001b[39m\u001b[39m\"\u001b[39m)\n",
      "File \u001b[0;32m~/miniconda3/envs/crypto/lib/python3.9/site-packages/httpcore/_async/connection.py:111\u001b[0m, in \u001b[0;36mAsyncHTTPConnection._connect\u001b[0;34m(self, request)\u001b[0m\n\u001b[1;32m    108\u001b[0m \u001b[39masync\u001b[39;00m \u001b[39mwith\u001b[39;00m Trace(\n\u001b[1;32m    109\u001b[0m     \u001b[39m\"\u001b[39m\u001b[39mconnection.connect_tcp\u001b[39m\u001b[39m\"\u001b[39m, request, kwargs\n\u001b[1;32m    110\u001b[0m ) \u001b[39mas\u001b[39;00m trace:\n\u001b[0;32m--> 111\u001b[0m     stream \u001b[39m=\u001b[39m \u001b[39mawait\u001b[39;00m \u001b[39mself\u001b[39m\u001b[39m.\u001b[39m_network_backend\u001b[39m.\u001b[39mconnect_tcp(\u001b[39m*\u001b[39m\u001b[39m*\u001b[39mkwargs)\n\u001b[1;32m    112\u001b[0m     trace\u001b[39m.\u001b[39mreturn_value \u001b[39m=\u001b[39m stream\n",
      "File \u001b[0;32m~/miniconda3/envs/crypto/lib/python3.9/site-packages/httpcore/backends/auto.py:29\u001b[0m, in \u001b[0;36mAutoBackend.connect_tcp\u001b[0;34m(self, host, port, timeout, local_address)\u001b[0m\n\u001b[1;32m     28\u001b[0m \u001b[39mawait\u001b[39;00m \u001b[39mself\u001b[39m\u001b[39m.\u001b[39m_init_backend()\n\u001b[0;32m---> 29\u001b[0m \u001b[39mreturn\u001b[39;00m \u001b[39mawait\u001b[39;00m \u001b[39mself\u001b[39m\u001b[39m.\u001b[39m_backend\u001b[39m.\u001b[39mconnect_tcp(\n\u001b[1;32m     30\u001b[0m     host, port, timeout\u001b[39m=\u001b[39mtimeout, local_address\u001b[39m=\u001b[39mlocal_address\n\u001b[1;32m     31\u001b[0m )\n",
      "File \u001b[0;32m~/miniconda3/envs/crypto/lib/python3.9/site-packages/httpcore/backends/asyncio.py:109\u001b[0m, in \u001b[0;36mAsyncIOBackend.connect_tcp\u001b[0;34m(self, host, port, timeout, local_address)\u001b[0m\n\u001b[1;32m    108\u001b[0m     \u001b[39mwith\u001b[39;00m anyio\u001b[39m.\u001b[39mfail_after(timeout):\n\u001b[0;32m--> 109\u001b[0m         stream: anyio\u001b[39m.\u001b[39mabc\u001b[39m.\u001b[39mByteStream \u001b[39m=\u001b[39m \u001b[39mawait\u001b[39;00m anyio\u001b[39m.\u001b[39mconnect_tcp(\n\u001b[1;32m    110\u001b[0m             remote_host\u001b[39m=\u001b[39mhost,\n\u001b[1;32m    111\u001b[0m             remote_port\u001b[39m=\u001b[39mport,\n\u001b[1;32m    112\u001b[0m             local_host\u001b[39m=\u001b[39mlocal_address,\n\u001b[1;32m    113\u001b[0m         )\n\u001b[1;32m    114\u001b[0m \u001b[39mreturn\u001b[39;00m AsyncIOStream(stream)\n",
      "File \u001b[0;32m~/miniconda3/envs/crypto/lib/python3.9/contextlib.py:137\u001b[0m, in \u001b[0;36m_GeneratorContextManager.__exit__\u001b[0;34m(self, typ, value, traceback)\u001b[0m\n\u001b[1;32m    136\u001b[0m \u001b[39mtry\u001b[39;00m:\n\u001b[0;32m--> 137\u001b[0m     \u001b[39mself\u001b[39;49m\u001b[39m.\u001b[39;49mgen\u001b[39m.\u001b[39;49mthrow(typ, value, traceback)\n\u001b[1;32m    138\u001b[0m \u001b[39mexcept\u001b[39;00m \u001b[39mStopIteration\u001b[39;00m \u001b[39mas\u001b[39;00m exc:\n\u001b[1;32m    139\u001b[0m     \u001b[39m# Suppress StopIteration *unless* it's the same exception that\u001b[39;00m\n\u001b[1;32m    140\u001b[0m     \u001b[39m# was passed to throw().  This prevents a StopIteration\u001b[39;00m\n\u001b[1;32m    141\u001b[0m     \u001b[39m# raised inside the \"with\" statement from being suppressed.\u001b[39;00m\n",
      "File \u001b[0;32m~/miniconda3/envs/crypto/lib/python3.9/site-packages/httpcore/_exceptions.py:12\u001b[0m, in \u001b[0;36mmap_exceptions\u001b[0;34m(map)\u001b[0m\n\u001b[1;32m     11\u001b[0m     \u001b[39mif\u001b[39;00m \u001b[39misinstance\u001b[39m(exc, from_exc):\n\u001b[0;32m---> 12\u001b[0m         \u001b[39mraise\u001b[39;00m to_exc(exc)\n\u001b[1;32m     13\u001b[0m \u001b[39mraise\u001b[39;00m\n",
      "\u001b[0;31mConnectError\u001b[0m: All connection attempts failed",
      "\nThe above exception was the direct cause of the following exception:\n",
      "\u001b[0;31mConnectError\u001b[0m                              Traceback (most recent call last)",
      "File \u001b[0;32m~/miniconda3/envs/crypto/lib/python3.9/site-packages/solana/exceptions.py:50\u001b[0m, in \u001b[0;36mhandle_async_exceptions.<locals>.func_decorator.<locals>.argument_decorator\u001b[0;34m(*args, **kwargs)\u001b[0m\n\u001b[1;32m     49\u001b[0m \u001b[39mtry\u001b[39;00m:\n\u001b[0;32m---> 50\u001b[0m     \u001b[39mreturn\u001b[39;00m \u001b[39mawait\u001b[39;00m func(\u001b[39m*\u001b[39margs, \u001b[39m*\u001b[39m\u001b[39m*\u001b[39mkwargs)\n\u001b[1;32m     51\u001b[0m \u001b[39mexcept\u001b[39;00m exception_types_caught \u001b[39mas\u001b[39;00m exc:\n",
      "File \u001b[0;32m~/miniconda3/envs/crypto/lib/python3.9/site-packages/solana/rpc/providers/async_http.py:33\u001b[0m, in \u001b[0;36mAsyncHTTPProvider.make_request\u001b[0;34m(self, method, *params)\u001b[0m\n\u001b[1;32m     32\u001b[0m request_kwargs \u001b[39m=\u001b[39m \u001b[39mself\u001b[39m\u001b[39m.\u001b[39m_before_request(method\u001b[39m=\u001b[39mmethod, params\u001b[39m=\u001b[39mparams, is_async\u001b[39m=\u001b[39m\u001b[39mTrue\u001b[39;00m)\n\u001b[0;32m---> 33\u001b[0m raw_response \u001b[39m=\u001b[39m \u001b[39mawait\u001b[39;00m \u001b[39mself\u001b[39m\u001b[39m.\u001b[39msession\u001b[39m.\u001b[39mpost(\u001b[39m*\u001b[39m\u001b[39m*\u001b[39mrequest_kwargs)\n\u001b[1;32m     34\u001b[0m \u001b[39mreturn\u001b[39;00m \u001b[39mself\u001b[39m\u001b[39m.\u001b[39m_after_request(raw_response\u001b[39m=\u001b[39mraw_response, method\u001b[39m=\u001b[39mmethod)\n",
      "File \u001b[0;32m~/miniconda3/envs/crypto/lib/python3.9/site-packages/httpx/_client.py:1842\u001b[0m, in \u001b[0;36mAsyncClient.post\u001b[0;34m(self, url, content, data, files, json, params, headers, cookies, auth, follow_redirects, timeout, extensions)\u001b[0m\n\u001b[1;32m   1837\u001b[0m \u001b[39m\"\"\"\u001b[39;00m\n\u001b[1;32m   1838\u001b[0m \u001b[39mSend a `POST` request.\u001b[39;00m\n\u001b[1;32m   1839\u001b[0m \n\u001b[1;32m   1840\u001b[0m \u001b[39m**Parameters**: See `httpx.request`.\u001b[39;00m\n\u001b[1;32m   1841\u001b[0m \u001b[39m\"\"\"\u001b[39;00m\n\u001b[0;32m-> 1842\u001b[0m \u001b[39mreturn\u001b[39;00m \u001b[39mawait\u001b[39;00m \u001b[39mself\u001b[39m\u001b[39m.\u001b[39mrequest(\n\u001b[1;32m   1843\u001b[0m     \u001b[39m\"\u001b[39m\u001b[39mPOST\u001b[39m\u001b[39m\"\u001b[39m,\n\u001b[1;32m   1844\u001b[0m     url,\n\u001b[1;32m   1845\u001b[0m     content\u001b[39m=\u001b[39mcontent,\n\u001b[1;32m   1846\u001b[0m     data\u001b[39m=\u001b[39mdata,\n\u001b[1;32m   1847\u001b[0m     files\u001b[39m=\u001b[39mfiles,\n\u001b[1;32m   1848\u001b[0m     json\u001b[39m=\u001b[39mjson,\n\u001b[1;32m   1849\u001b[0m     params\u001b[39m=\u001b[39mparams,\n\u001b[1;32m   1850\u001b[0m     headers\u001b[39m=\u001b[39mheaders,\n\u001b[1;32m   1851\u001b[0m     cookies\u001b[39m=\u001b[39mcookies,\n\u001b[1;32m   1852\u001b[0m     auth\u001b[39m=\u001b[39mauth,\n\u001b[1;32m   1853\u001b[0m     follow_redirects\u001b[39m=\u001b[39mfollow_redirects,\n\u001b[1;32m   1854\u001b[0m     timeout\u001b[39m=\u001b[39mtimeout,\n\u001b[1;32m   1855\u001b[0m     extensions\u001b[39m=\u001b[39mextensions,\n\u001b[1;32m   1856\u001b[0m )\n",
      "File \u001b[0;32m~/miniconda3/envs/crypto/lib/python3.9/site-packages/httpx/_client.py:1527\u001b[0m, in \u001b[0;36mAsyncClient.request\u001b[0;34m(self, method, url, content, data, files, json, params, headers, cookies, auth, follow_redirects, timeout, extensions)\u001b[0m\n\u001b[1;32m   1514\u001b[0m request \u001b[39m=\u001b[39m \u001b[39mself\u001b[39m\u001b[39m.\u001b[39mbuild_request(\n\u001b[1;32m   1515\u001b[0m     method\u001b[39m=\u001b[39mmethod,\n\u001b[1;32m   1516\u001b[0m     url\u001b[39m=\u001b[39murl,\n\u001b[0;32m   (...)\u001b[0m\n\u001b[1;32m   1525\u001b[0m     extensions\u001b[39m=\u001b[39mextensions,\n\u001b[1;32m   1526\u001b[0m )\n\u001b[0;32m-> 1527\u001b[0m \u001b[39mreturn\u001b[39;00m \u001b[39mawait\u001b[39;00m \u001b[39mself\u001b[39m\u001b[39m.\u001b[39msend(request, auth\u001b[39m=\u001b[39mauth, follow_redirects\u001b[39m=\u001b[39mfollow_redirects)\n",
      "File \u001b[0;32m~/miniconda3/envs/crypto/lib/python3.9/site-packages/httpx/_client.py:1614\u001b[0m, in \u001b[0;36mAsyncClient.send\u001b[0;34m(self, request, stream, auth, follow_redirects)\u001b[0m\n\u001b[1;32m   1612\u001b[0m auth \u001b[39m=\u001b[39m \u001b[39mself\u001b[39m\u001b[39m.\u001b[39m_build_request_auth(request, auth)\n\u001b[0;32m-> 1614\u001b[0m response \u001b[39m=\u001b[39m \u001b[39mawait\u001b[39;00m \u001b[39mself\u001b[39m\u001b[39m.\u001b[39m_send_handling_auth(\n\u001b[1;32m   1615\u001b[0m     request,\n\u001b[1;32m   1616\u001b[0m     auth\u001b[39m=\u001b[39mauth,\n\u001b[1;32m   1617\u001b[0m     follow_redirects\u001b[39m=\u001b[39mfollow_redirects,\n\u001b[1;32m   1618\u001b[0m     history\u001b[39m=\u001b[39m[],\n\u001b[1;32m   1619\u001b[0m )\n\u001b[1;32m   1620\u001b[0m \u001b[39mtry\u001b[39;00m:\n",
      "File \u001b[0;32m~/miniconda3/envs/crypto/lib/python3.9/site-packages/httpx/_client.py:1642\u001b[0m, in \u001b[0;36mAsyncClient._send_handling_auth\u001b[0;34m(self, request, auth, follow_redirects, history)\u001b[0m\n\u001b[1;32m   1641\u001b[0m \u001b[39mwhile\u001b[39;00m \u001b[39mTrue\u001b[39;00m:\n\u001b[0;32m-> 1642\u001b[0m     response \u001b[39m=\u001b[39m \u001b[39mawait\u001b[39;00m \u001b[39mself\u001b[39m\u001b[39m.\u001b[39m_send_handling_redirects(\n\u001b[1;32m   1643\u001b[0m         request,\n\u001b[1;32m   1644\u001b[0m         follow_redirects\u001b[39m=\u001b[39mfollow_redirects,\n\u001b[1;32m   1645\u001b[0m         history\u001b[39m=\u001b[39mhistory,\n\u001b[1;32m   1646\u001b[0m     )\n\u001b[1;32m   1647\u001b[0m     \u001b[39mtry\u001b[39;00m:\n",
      "File \u001b[0;32m~/miniconda3/envs/crypto/lib/python3.9/site-packages/httpx/_client.py:1679\u001b[0m, in \u001b[0;36mAsyncClient._send_handling_redirects\u001b[0;34m(self, request, follow_redirects, history)\u001b[0m\n\u001b[1;32m   1677\u001b[0m     \u001b[39mawait\u001b[39;00m hook(request)\n\u001b[0;32m-> 1679\u001b[0m response \u001b[39m=\u001b[39m \u001b[39mawait\u001b[39;00m \u001b[39mself\u001b[39m\u001b[39m.\u001b[39m_send_single_request(request)\n\u001b[1;32m   1680\u001b[0m \u001b[39mtry\u001b[39;00m:\n",
      "File \u001b[0;32m~/miniconda3/envs/crypto/lib/python3.9/site-packages/httpx/_client.py:1716\u001b[0m, in \u001b[0;36mAsyncClient._send_single_request\u001b[0;34m(self, request)\u001b[0m\n\u001b[1;32m   1715\u001b[0m \u001b[39mwith\u001b[39;00m request_context(request\u001b[39m=\u001b[39mrequest):\n\u001b[0;32m-> 1716\u001b[0m     response \u001b[39m=\u001b[39m \u001b[39mawait\u001b[39;00m transport\u001b[39m.\u001b[39mhandle_async_request(request)\n\u001b[1;32m   1718\u001b[0m \u001b[39massert\u001b[39;00m \u001b[39misinstance\u001b[39m(response\u001b[39m.\u001b[39mstream, AsyncByteStream)\n",
      "File \u001b[0;32m~/miniconda3/envs/crypto/lib/python3.9/site-packages/httpx/_transports/default.py:353\u001b[0m, in \u001b[0;36mAsyncHTTPTransport.handle_async_request\u001b[0;34m(self, request)\u001b[0m\n\u001b[1;32m    352\u001b[0m \u001b[39mwith\u001b[39;00m map_httpcore_exceptions():\n\u001b[0;32m--> 353\u001b[0m     resp \u001b[39m=\u001b[39m \u001b[39mawait\u001b[39;00m \u001b[39mself\u001b[39m\u001b[39m.\u001b[39m_pool\u001b[39m.\u001b[39mhandle_async_request(req)\n\u001b[1;32m    355\u001b[0m \u001b[39massert\u001b[39;00m \u001b[39misinstance\u001b[39m(resp\u001b[39m.\u001b[39mstream, typing\u001b[39m.\u001b[39mAsyncIterable)\n",
      "File \u001b[0;32m~/miniconda3/envs/crypto/lib/python3.9/contextlib.py:137\u001b[0m, in \u001b[0;36m_GeneratorContextManager.__exit__\u001b[0;34m(self, typ, value, traceback)\u001b[0m\n\u001b[1;32m    136\u001b[0m \u001b[39mtry\u001b[39;00m:\n\u001b[0;32m--> 137\u001b[0m     \u001b[39mself\u001b[39;49m\u001b[39m.\u001b[39;49mgen\u001b[39m.\u001b[39;49mthrow(typ, value, traceback)\n\u001b[1;32m    138\u001b[0m \u001b[39mexcept\u001b[39;00m \u001b[39mStopIteration\u001b[39;00m \u001b[39mas\u001b[39;00m exc:\n\u001b[1;32m    139\u001b[0m     \u001b[39m# Suppress StopIteration *unless* it's the same exception that\u001b[39;00m\n\u001b[1;32m    140\u001b[0m     \u001b[39m# was passed to throw().  This prevents a StopIteration\u001b[39;00m\n\u001b[1;32m    141\u001b[0m     \u001b[39m# raised inside the \"with\" statement from being suppressed.\u001b[39;00m\n",
      "File \u001b[0;32m~/miniconda3/envs/crypto/lib/python3.9/site-packages/httpx/_transports/default.py:77\u001b[0m, in \u001b[0;36mmap_httpcore_exceptions\u001b[0;34m()\u001b[0m\n\u001b[1;32m     76\u001b[0m message \u001b[39m=\u001b[39m \u001b[39mstr\u001b[39m(exc)\n\u001b[0;32m---> 77\u001b[0m \u001b[39mraise\u001b[39;00m mapped_exc(message) \u001b[39mfrom\u001b[39;00m \u001b[39mexc\u001b[39;00m\n",
      "\u001b[0;31mConnectError\u001b[0m: All connection attempts failed",
      "\nThe above exception was the direct cause of the following exception:\n",
      "\u001b[0;31mSolanaRpcException\u001b[0m                        Traceback (most recent call last)",
      "\u001b[1;32m/Users/brennan/Documents/drift/tmp/drift-clone/close_all.ipynb Cell 1\u001b[0m in \u001b[0;36m<cell line: 40>\u001b[0;34m()\u001b[0m\n\u001b[1;32m     <a href='vscode-notebook-cell:/Users/brennan/Documents/drift/tmp/drift-clone/close_all.ipynb#W0sZmlsZQ%3D%3D?line=36'>37</a>\u001b[0m url \u001b[39m=\u001b[39m \u001b[39m'\u001b[39m\u001b[39mhttp://127.0.0.1:8899\u001b[39m\u001b[39m'\u001b[39m\n\u001b[1;32m     <a href='vscode-notebook-cell:/Users/brennan/Documents/drift/tmp/drift-clone/close_all.ipynb#W0sZmlsZQ%3D%3D?line=37'>38</a>\u001b[0m connection \u001b[39m=\u001b[39m AsyncClient(url)\n\u001b[0;32m---> <a href='vscode-notebook-cell:/Users/brennan/Documents/drift/tmp/drift-clone/close_all.ipynb#W0sZmlsZQ%3D%3D?line=39'>40</a>\u001b[0m chs, state_ch \u001b[39m=\u001b[39m \u001b[39mawait\u001b[39;00m load_local_users(config, connection)\n",
      "File \u001b[0;32m~/Documents/drift/tmp/drift-clone/helpers.py:56\u001b[0m, in \u001b[0;36mload_local_users\u001b[0;34m(config, connection, keypairs_path)\u001b[0m\n\u001b[1;32m     53\u001b[0m     s \u001b[39m=\u001b[39m f\u001b[39m.\u001b[39mread()\n\u001b[1;32m     54\u001b[0m kp \u001b[39m=\u001b[39m Keypair()\u001b[39m.\u001b[39mfrom_secret_key(\u001b[39mbytearray\u001b[39m\u001b[39m.\u001b[39mfromhex(s))\n\u001b[0;32m---> 56\u001b[0m \u001b[39mawait\u001b[39;00m connection\u001b[39m.\u001b[39mrequest_airdrop(\n\u001b[1;32m     57\u001b[0m     kp\u001b[39m.\u001b[39mpublic_key, \n\u001b[1;32m     58\u001b[0m     \u001b[39mint\u001b[39m(\u001b[39m100\u001b[39m \u001b[39m*\u001b[39m \u001b[39m1e9\u001b[39m)\n\u001b[1;32m     59\u001b[0m )\n\u001b[1;32m     61\u001b[0m \u001b[39m# save clearing house\u001b[39;00m\n\u001b[1;32m     62\u001b[0m wallet \u001b[39m=\u001b[39m Wallet(kp)\n",
      "File \u001b[0;32m~/miniconda3/envs/crypto/lib/python3.9/site-packages/solana/rpc/async_api.py:1294\u001b[0m, in \u001b[0;36mAsyncClient.request_airdrop\u001b[0;34m(self, pubkey, lamports, commitment)\u001b[0m\n\u001b[1;32m   1278\u001b[0m \u001b[39m\"\"\"Requests an airdrop of lamports to a Pubkey.\u001b[39;00m\n\u001b[1;32m   1279\u001b[0m \n\u001b[1;32m   1280\u001b[0m \u001b[39mArgs:\u001b[39;00m\n\u001b[0;32m   (...)\u001b[0m\n\u001b[1;32m   1291\u001b[0m \u001b[39m     'id': 1}\u001b[39;00m\n\u001b[1;32m   1292\u001b[0m \u001b[39m\"\"\"\u001b[39;00m\n\u001b[1;32m   1293\u001b[0m args \u001b[39m=\u001b[39m \u001b[39mself\u001b[39m\u001b[39m.\u001b[39m_request_airdrop_args(pubkey, lamports, commitment)\n\u001b[0;32m-> 1294\u001b[0m \u001b[39mreturn\u001b[39;00m \u001b[39mawait\u001b[39;00m \u001b[39mself\u001b[39m\u001b[39m.\u001b[39m_provider\u001b[39m.\u001b[39mmake_request(\u001b[39m*\u001b[39margs)\n",
      "File \u001b[0;32m~/miniconda3/envs/crypto/lib/python3.9/site-packages/solana/exceptions.py:52\u001b[0m, in \u001b[0;36mhandle_async_exceptions.<locals>.func_decorator.<locals>.argument_decorator\u001b[0;34m(*args, **kwargs)\u001b[0m\n\u001b[1;32m     50\u001b[0m     \u001b[39mreturn\u001b[39;00m \u001b[39mawait\u001b[39;00m func(\u001b[39m*\u001b[39margs, \u001b[39m*\u001b[39m\u001b[39m*\u001b[39mkwargs)\n\u001b[1;32m     51\u001b[0m \u001b[39mexcept\u001b[39;00m exception_types_caught \u001b[39mas\u001b[39;00m exc:\n\u001b[0;32m---> 52\u001b[0m     \u001b[39mraise\u001b[39;00m internal_exception_cls(exc, func, \u001b[39m*\u001b[39margs, \u001b[39m*\u001b[39m\u001b[39m*\u001b[39mkwargs) \u001b[39mfrom\u001b[39;00m \u001b[39mexc\u001b[39;00m\n",
      "\u001b[0;31mSolanaRpcException\u001b[0m: "
     ]
    }
   ],
   "source": [
    "%load_ext autoreload\n",
    "%autoreload 2\n",
    "\n",
    "import sys\n",
    "sys.path.append('driftpy/src/')\n",
    "\n",
    "from driftpy.types import User\n",
    "from driftpy.constants.config import configs\n",
    "from anchorpy import Provider\n",
    "import json \n",
    "from anchorpy import Wallet\n",
    "from solana.rpc.async_api import AsyncClient\n",
    "from driftpy.clearing_house import ClearingHouse\n",
    "from driftpy.accounts import *\n",
    "from solana.publickey import PublicKey\n",
    "from solana.keypair import Keypair\n",
    "import pathlib \n",
    "from tqdm.notebook import tqdm \n",
    "import shutil\n",
    "from anchorpy import Instruction\n",
    "import base64\n",
    "from subprocess import Popen\n",
    "import os \n",
    "import time\n",
    "import signal\n",
    "from driftpy.admin import Admin\n",
    "from helpers import *\n",
    "\n",
    "script_file = 'start_local.sh'\n",
    "os.system(f'cat {script_file}')\n",
    "print()\n",
    "\n",
    "validator = LocalValidator(script_file)\n",
    "validator.start() # sometimes you gotta wait a bit for it to startup"
   ]
  },
  {
   "cell_type": "code",
   "execution_count": 3,
   "metadata": {},
   "outputs": [
    {
     "name": "stdout",
     "output_type": "stream",
     "text": [
      "found admin...\n"
     ]
    }
   ],
   "source": [
    "config = configs['devnet']\n",
    "url = 'http://127.0.0.1:8899'\n",
    "connection = AsyncClient(url)\n",
    "\n",
    "chs, state_ch = await load_local_users(config, connection)"
   ]
  },
  {
   "cell_type": "code",
   "execution_count": 4,
   "metadata": {},
   "outputs": [
    {
     "data": {
      "text/plain": [
       "'3r7zr1mFc9Mwhr2Ssm1P1Kt5bAXntKS6b4StXNYV27ovAxmdD3FgFugJQF7R4M72i3Mrsoms3j1wwjqsoidniX94'"
      ]
     },
     "execution_count": 4,
     "metadata": {},
     "output_type": "execute_result"
    }
   ],
   "source": [
    "await state_ch.update_auction_duration(0, 0)\n",
    "await state_ch.update_max_base_asset_amount_ratio(1, 0)"
   ]
  },
  {
   "cell_type": "code",
   "execution_count": 5,
   "metadata": {},
   "outputs": [
    {
     "data": {
      "application/vnd.jupyter.widget-view+json": {
       "model_id": "93121cb89d24488e833b643d3728c32b",
       "version_major": 2,
       "version_minor": 0
      },
      "text/plain": [
       "  0%|          | 0/82 [00:00<?, ?it/s]"
      ]
     },
     "metadata": {},
     "output_type": "display_data"
    }
   ],
   "source": [
    "# note: sometimes need to run this twice for lps (remove on first loop then close on second)\n",
    "close_out = False\n",
    "net_baa = 0 \n",
    "sigs = []\n",
    "for ch in tqdm(chs):\n",
    "    position = await ch.get_user_position(0)\n",
    "\n",
    "    if position.lp_shares > 0:\n",
    "        if close_out:\n",
    "            print('removing...', position.lp_shares)\n",
    "            sig = await ch.remove_liquidity(position.lp_shares, 0)\n",
    "            sigs.append(sig)\n",
    "\n",
    "    if position.base_asset_amount != 0:\n",
    "        net_baa += position.base_asset_amount\n",
    "        if close_out:\n",
    "            print('closing...', position.base_asset_amount / 1e13)\n",
    "            sig = await ch.close_position(0)\n",
    "            sigs.append(sig)\n",
    "    "
   ]
  },
  {
   "cell_type": "code",
   "execution_count": 6,
   "metadata": {},
   "outputs": [
    {
     "data": {
      "text/plain": [
       "(16901832280000000, 18270816363272298)"
      ]
     },
     "execution_count": 6,
     "metadata": {},
     "output_type": "execute_result"
    }
   ],
   "source": [
    "if close_out:\n",
    "    # wait for txs to confirm\n",
    "    while True:\n",
    "        resp = await connection.get_transaction(sigs[-1])\n",
    "        if resp['result'] is not None: \n",
    "            break \n",
    "\n",
    "market = await get_market_account(state_ch.program, 0)\n",
    "net_baa, market.amm.net_base_asset_amount"
   ]
  },
  {
   "cell_type": "code",
   "execution_count": 7,
   "metadata": {},
   "outputs": [],
   "source": [
    "# shutdown validator\n",
    "validator.stop()"
   ]
  },
  {
   "cell_type": "code",
   "execution_count": null,
   "metadata": {},
   "outputs": [],
   "source": []
  }
 ],
 "metadata": {
  "kernelspec": {
   "display_name": "Python 3.9.12 ('crypto')",
   "language": "python",
   "name": "python3"
  },
  "language_info": {
   "codemirror_mode": {
    "name": "ipython",
    "version": 3
   },
   "file_extension": ".py",
   "mimetype": "text/x-python",
   "name": "python",
   "nbconvert_exporter": "python",
   "pygments_lexer": "ipython3",
   "version": "3.9.12"
  },
  "orig_nbformat": 4,
  "vscode": {
   "interpreter": {
    "hash": "624c72e60887220413ba1f8f2e5b78d412679310011d540f3b5e530000425194"
   }
  }
 },
 "nbformat": 4,
 "nbformat_minor": 2
}
